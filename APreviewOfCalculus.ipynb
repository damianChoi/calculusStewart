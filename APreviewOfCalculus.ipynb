{
  "nbformat": 4,
  "nbformat_minor": 0,
  "metadata": {
    "colab": {
      "name": "APreviewOfCalculus.ipynb",
      "version": "0.3.2",
      "provenance": [],
      "collapsed_sections": [],
      "include_colab_link": true
    },
    "kernelspec": {
      "name": "python3",
      "display_name": "Python 3"
    }
  },
  "cells": [
    {
      "cell_type": "markdown",
      "metadata": {
        "id": "view-in-github",
        "colab_type": "text"
      },
      "source": [
        "<a href=\"https://colab.research.google.com/github/damianChoi/calculusStewart/blob/master/APreviewOfCalculus.ipynb\" target=\"_parent\"><img src=\"https://colab.research.google.com/assets/colab-badge.svg\" alt=\"Open In Colab\"/></a>"
      ]
    },
    {
      "metadata": {
        "id": "BW5yt3CQVBJK",
        "colab_type": "text"
      },
      "cell_type": "markdown",
      "source": [
        "$LaTeX/Mathematics$ [Links Here](https://en.wikibooks.org/wiki/LaTeX/Mathematics)"
      ]
    },
    {
      "metadata": {
        "id": "6t2TvR7NW95p",
        "colab_type": "text"
      },
      "cell_type": "markdown",
      "source": [
        "# The Area Problem"
      ]
    },
    {
      "metadata": {
        "id": "QXeoqDQCSf3T",
        "colab_type": "text"
      },
      "cell_type": "markdown",
      "source": [
        "$m = \\lim\\limits_{x \\to a} \\frac{f(x) - f(a)}{x - a} $"
      ]
    },
    {
      "metadata": {
        "id": "wzJ8gW8vUpSQ",
        "colab_type": "text"
      },
      "cell_type": "markdown",
      "source": [
        "# The Tangent Problem"
      ]
    },
    {
      "metadata": {
        "id": "fcSzRCifXBnK",
        "colab_type": "text"
      },
      "cell_type": "markdown",
      "source": [
        "# Velocity"
      ]
    },
    {
      "metadata": {
        "id": "iWpNgqnFXFWw",
        "colab_type": "text"
      },
      "cell_type": "markdown",
      "source": [
        "# The Limit of a Sequence"
      ]
    },
    {
      "metadata": {
        "id": "SCBrqqtqXMCM",
        "colab_type": "text"
      },
      "cell_type": "markdown",
      "source": [
        "# The Sum of a Series"
      ]
    },
    {
      "metadata": {
        "id": "0l57OWfzZNqx",
        "colab_type": "text"
      },
      "cell_type": "markdown",
      "source": [
        "# Summary"
      ]
    }
  ]
}